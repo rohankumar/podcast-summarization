{
 "cells": [
  {
   "cell_type": "code",
   "execution_count": 1,
   "id": "802bd2c3",
   "metadata": {},
   "outputs": [],
   "source": [
    "import pandas as pd\n",
    "import re\n",
    "from tqdm import tqdm"
   ]
  },
  {
   "cell_type": "code",
   "execution_count": 2,
   "id": "5e779248",
   "metadata": {},
   "outputs": [],
   "source": [
    "df_train = pd.read_csv(\"../data/train_data.csv\")\n",
    "df_dev = pd.read_csv(\"../data/dev_data.csv\")\n",
    "df_test = pd.read_csv(\"../data/test_data.csv\")"
   ]
  },
  {
   "cell_type": "code",
   "execution_count": 3,
   "id": "dc2878f2",
   "metadata": {},
   "outputs": [
    {
     "data": {
      "text/html": [
       "<div>\n",
       "<style scoped>\n",
       "    .dataframe tbody tr th:only-of-type {\n",
       "        vertical-align: middle;\n",
       "    }\n",
       "\n",
       "    .dataframe tbody tr th {\n",
       "        vertical-align: top;\n",
       "    }\n",
       "\n",
       "    .dataframe thead th {\n",
       "        text-align: right;\n",
       "    }\n",
       "</style>\n",
       "<table border=\"1\" class=\"dataframe\">\n",
       "  <thead>\n",
       "    <tr style=\"text-align: right;\">\n",
       "      <th></th>\n",
       "      <th>transcript</th>\n",
       "      <th>episode_description</th>\n",
       "    </tr>\n",
       "  </thead>\n",
       "  <tbody>\n",
       "    <tr>\n",
       "      <th>0</th>\n",
       "      <td>Welcome to Medicus a student-run podcast about...</td>\n",
       "      <td>In this episode, we sat down with a third year...</td>\n",
       "    </tr>\n",
       "    <tr>\n",
       "      <th>1</th>\n",
       "      <td>Hey, what is up everybody and welcome back to ...</td>\n",
       "      <td>We are so excited to be back with you guys wit...</td>\n",
       "    </tr>\n",
       "    <tr>\n",
       "      <th>2</th>\n",
       "      <td>Good morning. My people I'll be going well in ...</td>\n",
       "      <td>Can animals reduce stress or increase it? I ha...</td>\n",
       "    </tr>\n",
       "    <tr>\n",
       "      <th>3</th>\n",
       "      <td>This is Christy Mathewson part of the Texas A&amp;...</td>\n",
       "      <td>Surgery for biliary tract disease is among the...</td>\n",
       "    </tr>\n",
       "    <tr>\n",
       "      <th>4</th>\n",
       "      <td>Welcome to episode number 2 of The Av a moveme...</td>\n",
       "      <td>In this second episode of the podcast, our co-...</td>\n",
       "    </tr>\n",
       "  </tbody>\n",
       "</table>\n",
       "</div>"
      ],
      "text/plain": [
       "                                          transcript  \\\n",
       "0  Welcome to Medicus a student-run podcast about...   \n",
       "1  Hey, what is up everybody and welcome back to ...   \n",
       "2  Good morning. My people I'll be going well in ...   \n",
       "3  This is Christy Mathewson part of the Texas A&...   \n",
       "4  Welcome to episode number 2 of The Av a moveme...   \n",
       "\n",
       "                                 episode_description  \n",
       "0  In this episode, we sat down with a third year...  \n",
       "1  We are so excited to be back with you guys wit...  \n",
       "2  Can animals reduce stress or increase it? I ha...  \n",
       "3  Surgery for biliary tract disease is among the...  \n",
       "4  In this second episode of the podcast, our co-...  "
      ]
     },
     "execution_count": 3,
     "metadata": {},
     "output_type": "execute_result"
    }
   ],
   "source": [
    "df_train.head()"
   ]
  },
  {
   "cell_type": "code",
   "execution_count": 4,
   "id": "2c28dc24",
   "metadata": {},
   "outputs": [
    {
     "data": {
      "text/html": [
       "<div>\n",
       "<style scoped>\n",
       "    .dataframe tbody tr th:only-of-type {\n",
       "        vertical-align: middle;\n",
       "    }\n",
       "\n",
       "    .dataframe tbody tr th {\n",
       "        vertical-align: top;\n",
       "    }\n",
       "\n",
       "    .dataframe thead th {\n",
       "        text-align: right;\n",
       "    }\n",
       "</style>\n",
       "<table border=\"1\" class=\"dataframe\">\n",
       "  <thead>\n",
       "    <tr style=\"text-align: right;\">\n",
       "      <th></th>\n",
       "      <th>transcript</th>\n",
       "      <th>episode_description</th>\n",
       "    </tr>\n",
       "  </thead>\n",
       "  <tbody>\n",
       "    <tr>\n",
       "      <th>0</th>\n",
       "      <td>What's up you guys? It's telling and Ashley wi...</td>\n",
       "      <td>Ashley and Dallin discuss different approaches...</td>\n",
       "    </tr>\n",
       "    <tr>\n",
       "      <th>1</th>\n",
       "      <td>Three two one and stop popping step podcast th...</td>\n",
       "      <td>Today Puff and Steph talk about looking out fo...</td>\n",
       "    </tr>\n",
       "    <tr>\n",
       "      <th>2</th>\n",
       "      <td>You want to go all the content you can yeah, e...</td>\n",
       "      <td>What do AEGEE-Skopje, AEGEE-Bratislava, AEGEE-...</td>\n",
       "    </tr>\n",
       "    <tr>\n",
       "      <th>3</th>\n",
       "      <td>I'm talking about today Five Nights at Freddy'...</td>\n",
       "      <td>Finally 2 years since it has been revealed...h...</td>\n",
       "    </tr>\n",
       "    <tr>\n",
       "      <th>4</th>\n",
       "      <td>Hey, good morning. Good afternoon, and good ev...</td>\n",
       "      <td>Explicit language included for your benefit! W...</td>\n",
       "    </tr>\n",
       "  </tbody>\n",
       "</table>\n",
       "</div>"
      ],
      "text/plain": [
       "                                          transcript  \\\n",
       "0  What's up you guys? It's telling and Ashley wi...   \n",
       "1  Three two one and stop popping step podcast th...   \n",
       "2  You want to go all the content you can yeah, e...   \n",
       "3  I'm talking about today Five Nights at Freddy'...   \n",
       "4  Hey, good morning. Good afternoon, and good ev...   \n",
       "\n",
       "                                 episode_description  \n",
       "0  Ashley and Dallin discuss different approaches...  \n",
       "1  Today Puff and Steph talk about looking out fo...  \n",
       "2  What do AEGEE-Skopje, AEGEE-Bratislava, AEGEE-...  \n",
       "3  Finally 2 years since it has been revealed...h...  \n",
       "4  Explicit language included for your benefit! W...  "
      ]
     },
     "execution_count": 4,
     "metadata": {},
     "output_type": "execute_result"
    }
   ],
   "source": [
    "df_dev.head()"
   ]
  },
  {
   "cell_type": "code",
   "execution_count": 5,
   "id": "91a25cdb",
   "metadata": {},
   "outputs": [
    {
     "data": {
      "text/html": [
       "<div>\n",
       "<style scoped>\n",
       "    .dataframe tbody tr th:only-of-type {\n",
       "        vertical-align: middle;\n",
       "    }\n",
       "\n",
       "    .dataframe tbody tr th {\n",
       "        vertical-align: top;\n",
       "    }\n",
       "\n",
       "    .dataframe thead th {\n",
       "        text-align: right;\n",
       "    }\n",
       "</style>\n",
       "<table border=\"1\" class=\"dataframe\">\n",
       "  <thead>\n",
       "    <tr style=\"text-align: right;\">\n",
       "      <th></th>\n",
       "      <th>transcript</th>\n",
       "      <th>episode_description</th>\n",
       "    </tr>\n",
       "  </thead>\n",
       "  <tbody>\n",
       "    <tr>\n",
       "      <th>0</th>\n",
       "      <td>Welcome back to another episode of tuxedo time...</td>\n",
       "      <td>Today on the podcast we go on a JOURNEY! We ta...</td>\n",
       "    </tr>\n",
       "    <tr>\n",
       "      <th>1</th>\n",
       "      <td>What's up, guys? This episode of the podcast i...</td>\n",
       "      <td>Ever wanted a podcast from your three favorite...</td>\n",
       "    </tr>\n",
       "    <tr>\n",
       "      <th>2</th>\n",
       "      <td>You are listening to Irish illustrate Insider....</td>\n",
       "      <td>The Irish Illustrated Insider crew discusses N...</td>\n",
       "    </tr>\n",
       "    <tr>\n",
       "      <th>3</th>\n",
       "      <td>You have tuned into Irish Illustrated Insider....</td>\n",
       "      <td>Irish Illustrated Insider tackles NFL Combine ...</td>\n",
       "    </tr>\n",
       "    <tr>\n",
       "      <th>4</th>\n",
       "      <td>What's up, everybody? Welcome to the in the do...</td>\n",
       "      <td>Breaking down a classic Calgary Flames comebac...</td>\n",
       "    </tr>\n",
       "  </tbody>\n",
       "</table>\n",
       "</div>"
      ],
      "text/plain": [
       "                                          transcript  \\\n",
       "0  Welcome back to another episode of tuxedo time...   \n",
       "1  What's up, guys? This episode of the podcast i...   \n",
       "2  You are listening to Irish illustrate Insider....   \n",
       "3  You have tuned into Irish Illustrated Insider....   \n",
       "4  What's up, everybody? Welcome to the in the do...   \n",
       "\n",
       "                                 episode_description  \n",
       "0  Today on the podcast we go on a JOURNEY! We ta...  \n",
       "1  Ever wanted a podcast from your three favorite...  \n",
       "2  The Irish Illustrated Insider crew discusses N...  \n",
       "3  Irish Illustrated Insider tackles NFL Combine ...  \n",
       "4  Breaking down a classic Calgary Flames comebac...  "
      ]
     },
     "execution_count": 5,
     "metadata": {},
     "output_type": "execute_result"
    }
   ],
   "source": [
    "df_test.head()"
   ]
  },
  {
   "cell_type": "code",
   "execution_count": 6,
   "id": "342fb080",
   "metadata": {},
   "outputs": [
    {
     "name": "stdout",
     "output_type": "stream",
     "text": [
      "52396 2183 1025\n"
     ]
    }
   ],
   "source": [
    "print(len(df_train), len(df_dev), len(df_test))"
   ]
  },
  {
   "cell_type": "code",
   "execution_count": 7,
   "id": "9a8a0135",
   "metadata": {},
   "outputs": [],
   "source": [
    "def clean_data(df):\n",
    "    new_t = []\n",
    "    new_s = []\n",
    "    for idx, row in tqdm(df.iterrows()):\n",
    "        transcript = row['transcript']\n",
    "        transcript = re.sub(r\"[^a-zA-Z0-9]\",\" \",transcript)\n",
    "        transcript = re.sub(' +', ' ',transcript)\n",
    "        transcript = transcript.lower()\n",
    "        transcript = transcript.strip()\n",
    "        transcript = transcript.split(\" \")\n",
    "        new_t.append(' '.join(transcript[:1024]))\n",
    "        \n",
    "        summary = row['episode_description']\n",
    "        summary = re.sub(r\"[^a-zA-Z0-9]\",\" \",summary)\n",
    "        summary = re.sub(' +', ' ',summary)\n",
    "        summary = summary.lower()\n",
    "        summary = summary.strip()\n",
    "        summary = summary.split(\" \")\n",
    "        new_s.append(' '.join(summary[:1024]))\n",
    "    df['transcript'] = new_t\n",
    "    df['episode_description'] = new_s\n",
    "    return df"
   ]
  },
  {
   "cell_type": "code",
   "execution_count": 8,
   "id": "281d0370",
   "metadata": {},
   "outputs": [
    {
     "name": "stderr",
     "output_type": "stream",
     "text": [
      "52396it [03:13, 271.22it/s]\n",
      "2183it [00:08, 269.86it/s]\n",
      "1025it [00:04, 252.55it/s]\n"
     ]
    }
   ],
   "source": [
    "df_train = clean_data(df_train)\n",
    "df_dev = clean_data(df_dev)\n",
    "df_test = clean_data(df_test)"
   ]
  },
  {
   "cell_type": "code",
   "execution_count": 60,
   "id": "a745889c",
   "metadata": {},
   "outputs": [],
   "source": [
    "# for idx, row in df.iterrows():\n",
    "#     if len(row['transcript'].split(\" \")) >= 1024:\n",
    "#         print(idx)"
   ]
  },
  {
   "cell_type": "code",
   "execution_count": 9,
   "id": "1f699d0e",
   "metadata": {},
   "outputs": [],
   "source": [
    "new_t = df_train[['transcript']]\n",
    "new_s = df_train[['episode_description']]\n",
    "\n",
    "new_t.to_csv(\"../data/train.document\", index=False)\n",
    "new_s.to_csv(\"../data/train.summary\", index=False)\n",
    "\n",
    "new_t = df_dev[['transcript']]\n",
    "new_s = df_dev[['episode_description']]\n",
    "\n",
    "new_t.to_csv(\"../data/dev.document\", index=False)\n",
    "new_s.to_csv(\"../data/dev.summary\", index=False)\n",
    "\n",
    "new_t = df_test[['transcript']]\n",
    "new_s = df_test[['episode_description']]\n",
    "\n",
    "new_t.to_csv(\"../data/dev.document\", index=False)\n",
    "new_s.to_csv(\"../data/dev.summary\", index=False)"
   ]
  },
  {
   "cell_type": "code",
   "execution_count": 11,
   "id": "1bd2ec03",
   "metadata": {},
   "outputs": [],
   "source": [
    "df_train.to_csv(\"../data/train_clean.csv\", index=False)\n",
    "df_dev.to_csv(\"../data/dev_clean.csv\", index=False)\n",
    "df_test.to_csv(\"../data/test_clean.csv\", index=False)"
   ]
  }
 ],
 "metadata": {
  "kernelspec": {
   "display_name": "Environment (conda_adl)",
   "language": "python",
   "name": "conda_adl"
  },
  "language_info": {
   "codemirror_mode": {
    "name": "ipython",
    "version": 3
   },
   "file_extension": ".py",
   "mimetype": "text/x-python",
   "name": "python",
   "nbconvert_exporter": "python",
   "pygments_lexer": "ipython3",
   "version": "3.9.12"
  }
 },
 "nbformat": 4,
 "nbformat_minor": 5
}
