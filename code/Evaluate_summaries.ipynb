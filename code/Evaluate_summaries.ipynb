{
 "cells": [
  {
   "cell_type": "code",
   "execution_count": 49,
   "id": "fbb53b71",
   "metadata": {},
   "outputs": [],
   "source": [
    "import pandas as pd\n",
    "import re"
   ]
  },
  {
   "cell_type": "code",
   "execution_count": 50,
   "id": "fe423a47",
   "metadata": {},
   "outputs": [
    {
     "data": {
      "text/html": [
       "<div>\n",
       "<style scoped>\n",
       "    .dataframe tbody tr th:only-of-type {\n",
       "        vertical-align: middle;\n",
       "    }\n",
       "\n",
       "    .dataframe tbody tr th {\n",
       "        vertical-align: top;\n",
       "    }\n",
       "\n",
       "    .dataframe thead th {\n",
       "        text-align: right;\n",
       "    }\n",
       "</style>\n",
       "<table border=\"1\" class=\"dataframe\">\n",
       "  <thead>\n",
       "    <tr style=\"text-align: right;\">\n",
       "      <th></th>\n",
       "      <th>episode_description</th>\n",
       "    </tr>\n",
       "  </thead>\n",
       "  <tbody>\n",
       "    <tr>\n",
       "      <th>0</th>\n",
       "      <td>Today on the podcast we go on a JOURNEY! We ta...</td>\n",
       "    </tr>\n",
       "    <tr>\n",
       "      <th>1</th>\n",
       "      <td>Ever wanted a podcast from your three favorite...</td>\n",
       "    </tr>\n",
       "    <tr>\n",
       "      <th>2</th>\n",
       "      <td>The Irish Illustrated Insider crew discusses N...</td>\n",
       "    </tr>\n",
       "    <tr>\n",
       "      <th>3</th>\n",
       "      <td>Irish Illustrated Insider tackles NFL Combine ...</td>\n",
       "    </tr>\n",
       "    <tr>\n",
       "      <th>4</th>\n",
       "      <td>Breaking down a classic Calgary Flames comebac...</td>\n",
       "    </tr>\n",
       "  </tbody>\n",
       "</table>\n",
       "</div>"
      ],
      "text/plain": [
       "                                 episode_description\n",
       "0  Today on the podcast we go on a JOURNEY! We ta...\n",
       "1  Ever wanted a podcast from your three favorite...\n",
       "2  The Irish Illustrated Insider crew discusses N...\n",
       "3  Irish Illustrated Insider tackles NFL Combine ...\n",
       "4  Breaking down a classic Calgary Flames comebac..."
      ]
     },
     "execution_count": 50,
     "metadata": {},
     "output_type": "execute_result"
    }
   ],
   "source": [
    "df_test = pd.read_csv(\"../data/test.summary\")\n",
    "df_test.head()"
   ]
  },
  {
   "cell_type": "code",
   "execution_count": 51,
   "id": "a446eb73",
   "metadata": {},
   "outputs": [],
   "source": [
    "test_summary = list(df_test['episode_description'])"
   ]
  },
  {
   "cell_type": "code",
   "execution_count": 53,
   "id": "35144559",
   "metadata": {},
   "outputs": [],
   "source": [
    "gen_summary = []\n",
    "path = \"/home/ubuntu/podcast_summarisation/fairseq/pointer_generator/generate.hyp.processed\"\n",
    "with open(path) as f:\n",
    "    lines = f.readlines()\n",
    "    for idx,line in enumerate(lines):\n",
    "        gen_summary.append(line)"
   ]
  },
  {
   "cell_type": "code",
   "execution_count": 55,
   "id": "8c2b5443",
   "metadata": {},
   "outputs": [],
   "source": [
    "# clean the strings - lowercase, remove special characters and <unk> tokens\n",
    "def clean_summary(summaries):\n",
    "    clean_summ = []\n",
    "    for line in summaries:\n",
    "        line = re.sub(r\"[^a-zA-Z0-9]\",\" \",line)\n",
    "        line = line.replace('unk', '')\n",
    "        line = re.sub(' +', ' ',line)\n",
    "        line = line.lower()\n",
    "        line = line.strip()\n",
    "        clean_summ.append(line)\n",
    "    return clean_summ"
   ]
  },
  {
   "cell_type": "code",
   "execution_count": 56,
   "id": "d30935a8",
   "metadata": {},
   "outputs": [],
   "source": [
    "gen_clean = clean_summary(gen_summary)\n",
    "test_clean = clean_summary(test_summary)"
   ]
  },
  {
   "cell_type": "code",
   "execution_count": 61,
   "id": "5ed27858",
   "metadata": {},
   "outputs": [
    {
     "name": "stdout",
     "output_type": "stream",
     "text": [
      "355\n"
     ]
    }
   ],
   "source": [
    "for i in range(len(test_clean)):\n",
    "    if gen_clean[i]==\"\":\n",
    "        print(i)"
   ]
  },
  {
   "cell_type": "code",
   "execution_count": 64,
   "id": "b3634b2f",
   "metadata": {},
   "outputs": [],
   "source": [
    "gen_clean[355]=\"not found\""
   ]
  },
  {
   "cell_type": "code",
   "execution_count": 58,
   "id": "7d32e1c1",
   "metadata": {},
   "outputs": [],
   "source": [
    "test_clean[631] = \"not found\""
   ]
  },
  {
   "cell_type": "code",
   "execution_count": 65,
   "id": "188bbfa6",
   "metadata": {},
   "outputs": [
    {
     "data": {
      "text/plain": [
       "(1025, 1025)"
      ]
     },
     "execution_count": 65,
     "metadata": {},
     "output_type": "execute_result"
    }
   ],
   "source": [
    "len(gen_clean), len(test_clean)"
   ]
  },
  {
   "cell_type": "code",
   "execution_count": 66,
   "id": "a111b976",
   "metadata": {},
   "outputs": [],
   "source": [
    "from rouge import Rouge \n",
    "\n",
    "rouge_1 = {\"r\":0.0, \"p\": 0.0, \"f\": 0.0}\n",
    "rouge_2 = {\"r\":0.0, \"p\": 0.0, \"f\": 0.0} \n",
    "rouge_l = {\"r\":0.0, \"p\": 0.0, \"f\": 0.0} \n",
    "\n",
    "\n",
    "rouge = Rouge()\n",
    "scores = rouge.get_scores(gen_clean, test_clean)\n",
    "scores = scores[0]\n",
    "rouge_1['r']+=scores['rouge-1']['r']\n",
    "rouge_2['r']+=scores['rouge-2']['r']\n",
    "rouge_l['r']+=scores['rouge-l']['r']\n",
    "\n",
    "rouge_1['p']+=scores['rouge-1']['p']\n",
    "rouge_2['p']+=scores['rouge-2']['p']\n",
    "rouge_l['p']+=scores['rouge-l']['p']\n",
    "\n",
    "rouge_1['f']+=scores['rouge-1']['f']\n",
    "rouge_2['f']+=scores['rouge-2']['f']\n",
    "rouge_l['f']+=scores['rouge-l']['f']"
   ]
  },
  {
   "cell_type": "code",
   "execution_count": 67,
   "id": "a822a642",
   "metadata": {},
   "outputs": [
    {
     "data": {
      "text/plain": [
       "{'rouge-1': {'r': 0.10294117647058823,\n",
       "  'p': 0.2916666666666667,\n",
       "  'f': 0.15217390918714566},\n",
       " 'rouge-2': {'r': 0.022988505747126436,\n",
       "  'p': 0.08695652173913043,\n",
       "  'f': 0.03636363305619865},\n",
       " 'rouge-l': {'r': 0.08823529411764706, 'p': 0.25, 'f': 0.13043477875236306}}"
      ]
     },
     "execution_count": 67,
     "metadata": {},
     "output_type": "execute_result"
    }
   ],
   "source": [
    "scores"
   ]
  },
  {
   "cell_type": "code",
   "execution_count": null,
   "id": "ce55c755",
   "metadata": {},
   "outputs": [],
   "source": [
    "# Results for 1024 characters test set transcripts run with last checkpoint batch_size = 1\n",
    "\n",
    "# {'rouge-1': {'r': 0.17647058823529413,\n",
    "#   'p': 0.2553191489361702,\n",
    "#   'f': 0.20869564734064283},\n",
    "#  'rouge-2': {'r': 0.0, 'p': 0.0, 'f': 0.0},\n",
    "#  'rouge-l': {'r': 0.10294117647058823,\n",
    "#   'p': 0.14893617021276595,\n",
    "#   'f': 0.1217391256015125}}\n",
    "\n",
    "# 1024 tokens - second itr\n",
    "# {'rouge-1': {'r': 0.10294117647058823,\n",
    "#   'p': 0.2916666666666667,\n",
    "#   'f': 0.15217390918714566},\n",
    "#  'rouge-2': {'r': 0.022988505747126436,\n",
    "#   'p': 0.08695652173913043,\n",
    "#   'f': 0.03636363305619865},\n",
    "#  'rouge-l': {'r': 0.08823529411764706, 'p': 0.25, 'f': 0.13043477875236306}}"
   ]
  },
  {
   "cell_type": "code",
   "execution_count": null,
   "id": "05650e78",
   "metadata": {},
   "outputs": [],
   "source": []
  }
 ],
 "metadata": {
  "kernelspec": {
   "display_name": "Environment (conda_adl)",
   "language": "python",
   "name": "conda_adl"
  },
  "language_info": {
   "codemirror_mode": {
    "name": "ipython",
    "version": 3
   },
   "file_extension": ".py",
   "mimetype": "text/x-python",
   "name": "python",
   "nbconvert_exporter": "python",
   "pygments_lexer": "ipython3",
   "version": "3.9.12"
  }
 },
 "nbformat": 4,
 "nbformat_minor": 5
}
